{
 "cells": [
  {
   "cell_type": "code",
   "execution_count": 1,
   "id": "c1d25fd9",
   "metadata": {},
   "outputs": [
    {
     "name": "stdout",
     "output_type": "stream",
     "text": [
      "\n",
      "            a. Ingresar paciente\n",
      "            b. Ingreso imagenes\n",
      "            c. Rotacion\n",
      "            d. Manipulacion imagen\n",
      "            e. Salir\n",
      "                 c\n",
      "ingrese el angulo al que quiere rotar\n",
      "                     1. 90 grados\n",
      "                     2. 180 grados\n",
      "                     3. 270 grados\n",
      "                     2\n"
     ]
    },
    {
     "ename": "TypeError",
     "evalue": "Imagenes.rotar_imagen() missing 1 required positional argument: 'self'",
     "output_type": "error",
     "traceback": [
      "\u001b[1;31m---------------------------------------------------------------------------\u001b[0m",
      "\u001b[1;31mTypeError\u001b[0m                                 Traceback (most recent call last)",
      "Cell \u001b[1;32mIn[1], line 53\u001b[0m\n\u001b[0;32m     47\u001b[0m key\u001b[38;5;241m=\u001b[39m\u001b[38;5;124m\"\u001b[39m\u001b[38;5;124m123\u001b[39m\u001b[38;5;124m\"\u001b[39m\n\u001b[0;32m     48\u001b[0m angulo\u001b[38;5;241m=\u001b[39m\u001b[38;5;28minput\u001b[39m(\u001b[38;5;124m\"\"\"\u001b[39m\u001b[38;5;124mingrese el angulo al que quiere rotar\u001b[39m\n\u001b[0;32m     49\u001b[0m \u001b[38;5;124m             1. 90 grados\u001b[39m\n\u001b[0;32m     50\u001b[0m \u001b[38;5;124m             2. 180 grados\u001b[39m\n\u001b[0;32m     51\u001b[0m \u001b[38;5;124m             3. 270 grados\u001b[39m\n\u001b[0;32m     52\u001b[0m \u001b[38;5;124m             \u001b[39m\u001b[38;5;124m\"\"\"\u001b[39m)\n\u001b[1;32m---> 53\u001b[0m rotada\u001b[38;5;241m=\u001b[39mImagenes\u001b[38;5;241m.\u001b[39mrotar_imagen(key\u001b[38;5;241m=\u001b[39mkey,angulo\u001b[38;5;241m=\u001b[39mangulo)\n\u001b[0;32m     54\u001b[0m orginal\u001b[38;5;241m=\u001b[39mImagenes\u001b[38;5;241m.\u001b[39mobtener_imagen(key)\n\u001b[0;32m     55\u001b[0m fig, axs \u001b[38;5;241m=\u001b[39m plt\u001b[38;5;241m.\u001b[39msubplots(\u001b[38;5;241m1\u001b[39m, \u001b[38;5;241m2\u001b[39m, figsize\u001b[38;5;241m=\u001b[39m(\u001b[38;5;241m10\u001b[39m, \u001b[38;5;241m5\u001b[39m))\n",
      "\u001b[1;31mTypeError\u001b[0m: Imagenes.rotar_imagen() missing 1 required positional argument: 'self'"
     ]
    }
   ],
   "source": [
    "from clases import Paciente\n",
    "from clases import Imagenes\n",
    "import matplotlib.pyplot as plt\n",
    "import cv2\n",
    "\n",
    "D = Paciente()\n",
    "P = 0\n",
    "img=Imagenes()\n",
    "\n",
    "while True:\n",
    "    paciente = {}\n",
    "    dicom = {}\n",
    "    PNG = {}\n",
    "    \n",
    "    rutan = r\"C:\\Users\\dario\\Desktop\\p3\\Parcial-3\\Sarcoma\\img2\"\n",
    "    Menu = input(\"\"\"\n",
    "            a. Ingresar paciente\n",
    "            b. Ingreso imagenes\n",
    "            c. Rotacion\n",
    "            d. Manipulacion imagen\n",
    "            e. Salir\n",
    "                 \"\"\")\n",
    "    \n",
    "    if Menu == \"a\":\n",
    "        ruta = input(\"Ruta de Dicom: \")\n",
    "        A = D.Imagen(ruta)\n",
    "        N = D.Nombre(P)\n",
    "        I = D.Id(P)\n",
    "        E = D.Age(P)\n",
    "        p = D.Estudio(P)\n",
    "        k = D.Sex(P)\n",
    "        z = D.retornar_imagen(P)\n",
    "        s = D.Nifti(ruta,rutan)\n",
    "\n",
    "        paciente[I] = {'Nombre': N,'Edad': E,'Estudio': p,'Genero': k,'Imagen' : z,'Nifti' : s}\n",
    "\n",
    "    elif Menu == \"b\":\n",
    "        key = input(\"Ingresa key: \")\n",
    "        Im = input(\"Ruta de imagen: \")\n",
    "        A = img.leer_imagen(key,Im)\n",
    "        PNG[key] = {'Imagen': A}\n",
    "        \n",
    "    elif Menu == \"c\":\n",
    "        #ruta=input(\"ingrese la ruta de la imagen\")\n",
    "        #key=input(\"ingrese la clave del paciente\")\n",
    "        ruta=r\"C:\\Users\\dario\\Parcial-3-4\\Menu.py\"\n",
    "        key=\"123\"\n",
    "        angulo=input(\"\"\"ingrese el angulo al que quiere rotar\n",
    "                     1. 90 grados\n",
    "                     2. 180 grados\n",
    "                     3. 270 grados\n",
    "                     \"\"\")\n",
    "        rotada=Imagenes.rotar_imagen(key=key,angulo=angulo)\n",
    "        orginal=Imagenes.obtener_imagen(key)\n",
    "        fig, axs = plt.subplots(1, 2, figsize=(10, 5))\n",
    "        axs[0].imshow(orginal, cmap=\"bone\")\n",
    "        axs[0].set_title('Imagen Original')\n",
    "        axs[0].axis('off')\n",
    "        axs[1].imshow(rotada, cmap='bone')\n",
    "        axs[1].set_title('Imagen Rotada')\n",
    "        axs[1].axis('off')\n",
    "        plt.tight_layout()\n",
    "        plt.show()\n",
    "\n",
    "    elif Menu == \"d\":\n",
    "        key = input(\"Ingresa key: \")\n",
    "        Im = input(\"Ruta de imagen: \")\n",
    "        Umbral = input(\"Umbral: \")\n",
    "        Kernel = input(\"Kernel a usar: \")\n",
    "        A = img.leer_imagen(key,Im)\n",
    "        B = img.binarizar_imagen(key,A,Umbral,Kernel)\n",
    "        \n",
    "    elif Menu == \"e\":\n",
    "        break"
   ]
  },
  {
   "cell_type": "code",
   "execution_count": null,
   "id": "f271b176",
   "metadata": {},
   "outputs": [],
   "source": []
  }
 ],
 "metadata": {
  "kernelspec": {
   "display_name": "Python 3 (ipykernel)",
   "language": "python",
   "name": "python3"
  },
  "language_info": {
   "codemirror_mode": {
    "name": "ipython",
    "version": 3
   },
   "file_extension": ".py",
   "mimetype": "text/x-python",
   "name": "python",
   "nbconvert_exporter": "python",
   "pygments_lexer": "ipython3",
   "version": "3.11.5"
  }
 },
 "nbformat": 4,
 "nbformat_minor": 5
}
